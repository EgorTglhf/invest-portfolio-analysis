{
 "cells": [
  {
   "cell_type": "markdown",
   "id": "6fa3dcea-2688-4f7d-b803-22bd798628a3",
   "metadata": {},
   "source": [
    "## In this project we will use SciPy library to improve our portfolio by achieving the target return. We will calculate the performance of the current portfolio. Also we will use minimize function from the library to find the portfolio which has the target return.\n",
    "___"
   ]
  },
  {
   "cell_type": "markdown",
   "id": "703fc261-b5f5-4347-822a-026c43869aef",
   "metadata": {},
   "source": [
    "# Preparations"
   ]
  },
  {
   "cell_type": "markdown",
   "id": "e2b6b521-88f8-4607-b23b-63dfac5437c5",
   "metadata": {},
   "source": [
    "### Import libraries"
   ]
  },
  {
   "cell_type": "markdown",
   "id": "4c809e0e-5694-4a61-b6dd-f26f908c1415",
   "metadata": {},
   "source": [
    "Import standard libraries we need for interaction with data - Numpy and Pandas, for visualization - Matplotlib and Seaborn, for getting financial data - yfinance."
   ]
  },
  {
   "cell_type": "code",
   "execution_count": 4,
   "id": "18d0c00b-4ecd-4c62-b7c5-f9ef199bf486",
   "metadata": {},
   "outputs": [],
   "source": [
    "import numpy as np\n",
    "import pandas as pd\n",
    "import matplotlib.pyplot as plt\n",
    "import seaborn as sns\n",
    "\n",
    "plt.rcParams['figure.figsize'] = [12, 6]\n",
    "%matplotlib inline\n",
    "\n",
    "import warnings\n",
    "warnings.filterwarnings('ignore')\n",
    "\n",
    "from scipy.optimize import minimize\n",
    "\n",
    "import datetime\n",
    "import yfinance as yf"
   ]
  },
  {
   "cell_type": "markdown",
   "id": "0c0d9f3f-0251-4751-bac8-ed76b8f0d2eb",
   "metadata": {},
   "source": [
    "### Create time boundaries"
   ]
  },
  {
   "cell_type": "markdown",
   "id": "593557b9-d542-4b8b-beba-7af759848686",
   "metadata": {},
   "source": [
    "Creating variables with time boundaries using the datetime library."
   ]
  },
  {
   "cell_type": "code",
   "execution_count": 7,
   "id": "9f7e0671-60da-4ad3-bb40-2e5caa03792a",
   "metadata": {},
   "outputs": [],
   "source": [
    "end_date = datetime.datetime.now()\n",
    "start_date = datetime.datetime.now() - datetime.timedelta(days=5*365)"
   ]
  },
  {
   "cell_type": "markdown",
   "id": "e86312ba-a321-4aba-8258-0e90a128ca36",
   "metadata": {},
   "source": [
    "### Init portfolio data"
   ]
  },
  {
   "cell_type": "markdown",
   "id": "04d21a61-3884-453c-aae9-eb439866a460",
   "metadata": {},
   "source": [
    "We have the customer portfolio consisting of 13 different stocks with actual weights in it."
   ]
  },
  {
   "cell_type": "code",
   "execution_count": 10,
   "id": "e25e1a0b-3346-4890-911a-34b12f688ee0",
   "metadata": {},
   "outputs": [],
   "source": [
    "portfolio = ['AAPL', 'ABBV', 'BAC', 'BTI', 'C', 'CMCSA', 'FDX',  'GPS', 'HPQ', 'INTC', 'PFE', 'T', 'V']\n",
    "current_weights = [0.1269, 0.1082, 0.0473, 0.0762, 0.0441, 0.0627, 0.1069, 0.1006, 0.0716, 0.0401, 0.0588, 0.0689, 0.0876]\n",
    "portfolio_len = len(portfolio)"
   ]
  },
  {
   "cell_type": "markdown",
   "id": "0d3d65a9-5957-494b-8288-60c96167de6f",
   "metadata": {},
   "source": [
    "# Calculate target returns"
   ]
  },
  {
   "cell_type": "markdown",
   "id": "0dfe9f9c-04c0-4fe1-a197-f136eed3609d",
   "metadata": {},
   "source": [
    "### Load the stock data"
   ]
  },
  {
   "cell_type": "markdown",
   "id": "f9ab52bc-ec5c-4b30-ae48-8dd2ddd333c6",
   "metadata": {},
   "source": [
    "Load the daily stock data within the 5-year time period by using yfinance."
   ]
  },
  {
   "cell_type": "code",
   "execution_count": 14,
   "id": "82f86584-e2e8-4c74-8faf-cebb9c898949",
   "metadata": {},
   "outputs": [
    {
     "name": "stderr",
     "output_type": "stream",
     "text": [
      "[*********************100%***********************]  13 of 13 completed\n"
     ]
    }
   ],
   "source": [
    "stock_data = yf.download(portfolio, start_date, end_date, interval='1d')\n",
    "stock_data = stock_data['Close']\n",
    "stock_data = stock_data.reset_index()"
   ]
  },
  {
   "cell_type": "markdown",
   "id": "26254e4a-d587-45da-863b-81fb0b3947a0",
   "metadata": {},
   "source": [
    "### Calculate metrics"
   ]
  },
  {
   "cell_type": "markdown",
   "id": "29689e09-5783-4337-a3db-a5664661c435",
   "metadata": {},
   "source": [
    "Calculate the basic metrics - historical mean return and covariance matrix."
   ]
  },
  {
   "cell_type": "code",
   "execution_count": 17,
   "id": "dd1736a6-d9c5-4864-b11d-f22b166ad90f",
   "metadata": {},
   "outputs": [],
   "source": [
    "# Find the quarterly return for each period\n",
    "selected = list(stock_data.columns[1:])\n",
    "returns = stock_data[selected].pct_change()\n",
    "# Find the expected returns \n",
    "expected_returns = returns.mean()\n",
    "# Find the covariance \n",
    "cov = returns.cov()"
   ]
  },
  {
   "cell_type": "markdown",
   "id": "abeedecb-df1b-430e-be69-6cb811c8beb6",
   "metadata": {},
   "source": [
    "### Calculate target portfolio"
   ]
  },
  {
   "cell_type": "markdown",
   "id": "c907e930-6cf9-436b-b155-df41fe210cb6",
   "metadata": {},
   "source": [
    "Define the target return. We can achieve 17% yield."
   ]
  },
  {
   "cell_type": "code",
   "execution_count": 20,
   "id": "5fdf131c-1395-489a-ba13-dab8bb09302c",
   "metadata": {},
   "outputs": [],
   "source": [
    "target_return = 0.17"
   ]
  },
  {
   "cell_type": "markdown",
   "id": "c3ab1bba-1f3b-48f1-b103-aee4b07b576f",
   "metadata": {},
   "source": [
    "We aim to achieve a highly diversified portfolio by setting both minimum and maximum percentage limits, ensuring that each stock's allocation falls within this range in the final portfolio."
   ]
  },
  {
   "cell_type": "code",
   "execution_count": 22,
   "id": "e4dd85ce-f048-49eb-980c-7c9d2f1a14f7",
   "metadata": {},
   "outputs": [],
   "source": [
    "min_stock_fraction = 1/(portfolio_len*2)\n",
    "max_stock_fraction = 2/portfolio_len\n",
    "\n",
    "bounds = tuple((min_stock_fraction, max_stock_fraction) for i in range(portfolio_len))"
   ]
  },
  {
   "cell_type": "markdown",
   "id": "c1c87a3e-d56c-472e-99c7-af0bd14ff20a",
   "metadata": {},
   "source": [
    "We have the obvious condition that sum of weights has to be 1. The second one we have the condition to achieve the target return."
   ]
  },
  {
   "cell_type": "code",
   "execution_count": 24,
   "id": "07a7e494-9460-49b8-80dd-0cb6cdfd926e",
   "metadata": {},
   "outputs": [],
   "source": [
    "cons = (\n",
    "    # Sum of weights must equate to 1\n",
    "    {'type' : 'eq', 'fun' : lambda w : np.sum(w) - 1},\n",
    "    # Difference between expected return and target must be equal to 0.\n",
    "    {'type' : 'eq', 'fun' : lambda x : x.dot(expected_returns) * 252 - target_return})"
   ]
  },
  {
   "cell_type": "markdown",
   "id": "c1914b85-88d9-4d54-bc90-1b70f68b681f",
   "metadata": {},
   "source": [
    "Define a function which returns the annualised return."
   ]
  },
  {
   "cell_type": "code",
   "execution_count": 26,
   "id": "75fb48aa-bcd8-42fa-abc9-7ea3875a95f1",
   "metadata": {},
   "outputs": [],
   "source": [
    "def getPortReturn(weights):\n",
    "    return np.dot(np.transpose(weights), expected_returns) * 252"
   ]
  },
  {
   "cell_type": "markdown",
   "id": "d9ca3261-50d1-432d-9fc9-520f96f19db0",
   "metadata": {},
   "source": [
    "Now we ready to call our implemention."
   ]
  },
  {
   "cell_type": "code",
   "execution_count": 28,
   "id": "92b5edd8-e57a-4761-94d1-9e2456236d71",
   "metadata": {},
   "outputs": [
    {
     "name": "stdout",
     "output_type": "stream",
     "text": [
      " message: Optimization terminated successfully\n",
      " success: True\n",
      "  status: 0\n",
      "     fun: 0.16999999997261847\n",
      "       x: [ 1.538e-01  1.244e-01 ...  4.297e-02  8.695e-02]\n",
      "     nit: 2\n",
      "     jac: [ 3.233e-01  2.240e-01 ... -1.559e-02  1.282e-01]\n",
      "    nfev: 28\n",
      "    njev: 2\n"
     ]
    }
   ],
   "source": [
    "results = minimize(fun=getPortReturn,\n",
    "                   x0=current_weights, \n",
    "                   bounds=bounds,\n",
    "                   constraints=cons)  \n",
    "print(results)"
   ]
  },
  {
   "cell_type": "markdown",
   "id": "e929f3ed-2483-4a9d-88b4-5b10d1f73ffe",
   "metadata": {},
   "source": [
    "# Results"
   ]
  },
  {
   "cell_type": "markdown",
   "id": "6247e25a-216d-45b8-b6e1-baa57038956e",
   "metadata": {},
   "source": [
    "Calculate the performance of the current portfolio."
   ]
  },
  {
   "cell_type": "code",
   "execution_count": 31,
   "id": "7d7a2cb3-610e-4fc5-a03d-14dfdac700fe",
   "metadata": {},
   "outputs": [],
   "source": [
    "current_return = getPortReturn(current_weights)\n",
    "current_volatility = np.sqrt(np.dot(np.transpose(current_weights), np.dot(cov, current_weights)))*np.sqrt(252)"
   ]
  },
  {
   "cell_type": "markdown",
   "id": "36018d9e-24a0-431b-acc2-f409404b1acd",
   "metadata": {},
   "source": [
    "Calculate the performance of the target portfolio."
   ]
  },
  {
   "cell_type": "code",
   "execution_count": 33,
   "id": "86fd6699-6813-4f84-847c-10943780344d",
   "metadata": {},
   "outputs": [],
   "source": [
    "target_weights = [float(round(x, 4)) for x in results['x']]"
   ]
  },
  {
   "cell_type": "code",
   "execution_count": 34,
   "id": "441ea770-06be-4926-9009-7fd7f8d0f8d0",
   "metadata": {},
   "outputs": [],
   "source": [
    "target_return = getPortReturn(target_weights)\n",
    "target_volatility = np.sqrt(np.dot(np.transpose(target_weights), np.dot(cov, target_weights)))*np.sqrt(252)"
   ]
  },
  {
   "cell_type": "markdown",
   "id": "49b65ba9-d174-4e14-b46f-c7930d7b9cfa",
   "metadata": {},
   "source": [
    "Collect portfolios to one DataFrame."
   ]
  },
  {
   "cell_type": "code",
   "execution_count": 36,
   "id": "3ff308cc-f2c9-49a0-88eb-8dee7e44791e",
   "metadata": {},
   "outputs": [
    {
     "data": {
      "text/html": [
       "<div>\n",
       "<style scoped>\n",
       "    .dataframe tbody tr th:only-of-type {\n",
       "        vertical-align: middle;\n",
       "    }\n",
       "\n",
       "    .dataframe tbody tr th {\n",
       "        vertical-align: top;\n",
       "    }\n",
       "\n",
       "    .dataframe thead th {\n",
       "        text-align: right;\n",
       "    }\n",
       "</style>\n",
       "<table border=\"1\" class=\"dataframe\">\n",
       "  <thead>\n",
       "    <tr style=\"text-align: right;\">\n",
       "      <th></th>\n",
       "      <th>Current weights</th>\n",
       "      <th>Target weights</th>\n",
       "    </tr>\n",
       "  </thead>\n",
       "  <tbody>\n",
       "    <tr>\n",
       "      <th>AAPL</th>\n",
       "      <td>0.1269</td>\n",
       "      <td>0.1538</td>\n",
       "    </tr>\n",
       "    <tr>\n",
       "      <th>ABBV</th>\n",
       "      <td>0.1082</td>\n",
       "      <td>0.1244</td>\n",
       "    </tr>\n",
       "    <tr>\n",
       "      <th>BAC</th>\n",
       "      <td>0.0473</td>\n",
       "      <td>0.0465</td>\n",
       "    </tr>\n",
       "    <tr>\n",
       "      <th>BTI</th>\n",
       "      <td>0.0762</td>\n",
       "      <td>0.0595</td>\n",
       "    </tr>\n",
       "    <tr>\n",
       "      <th>C</th>\n",
       "      <td>0.0441</td>\n",
       "      <td>0.0385</td>\n",
       "    </tr>\n",
       "    <tr>\n",
       "      <th>CMCSA</th>\n",
       "      <td>0.0627</td>\n",
       "      <td>0.0434</td>\n",
       "    </tr>\n",
       "    <tr>\n",
       "      <th>FDX</th>\n",
       "      <td>0.1069</td>\n",
       "      <td>0.1172</td>\n",
       "    </tr>\n",
       "    <tr>\n",
       "      <th>GPS</th>\n",
       "      <td>0.1006</td>\n",
       "      <td>0.1207</td>\n",
       "    </tr>\n",
       "    <tr>\n",
       "      <th>HPQ</th>\n",
       "      <td>0.0716</td>\n",
       "      <td>0.0892</td>\n",
       "    </tr>\n",
       "    <tr>\n",
       "      <th>INTC</th>\n",
       "      <td>0.0401</td>\n",
       "      <td>0.0385</td>\n",
       "    </tr>\n",
       "    <tr>\n",
       "      <th>PFE</th>\n",
       "      <td>0.0588</td>\n",
       "      <td>0.0385</td>\n",
       "    </tr>\n",
       "    <tr>\n",
       "      <th>T</th>\n",
       "      <td>0.0689</td>\n",
       "      <td>0.0430</td>\n",
       "    </tr>\n",
       "    <tr>\n",
       "      <th>V</th>\n",
       "      <td>0.0876</td>\n",
       "      <td>0.0869</td>\n",
       "    </tr>\n",
       "  </tbody>\n",
       "</table>\n",
       "</div>"
      ],
      "text/plain": [
       "       Current weights  Target weights\n",
       "AAPL            0.1269          0.1538\n",
       "ABBV            0.1082          0.1244\n",
       "BAC             0.0473          0.0465\n",
       "BTI             0.0762          0.0595\n",
       "C               0.0441          0.0385\n",
       "CMCSA           0.0627          0.0434\n",
       "FDX             0.1069          0.1172\n",
       "GPS             0.1006          0.1207\n",
       "HPQ             0.0716          0.0892\n",
       "INTC            0.0401          0.0385\n",
       "PFE             0.0588          0.0385\n",
       "T               0.0689          0.0430\n",
       "V               0.0876          0.0869"
      ]
     },
     "execution_count": 36,
     "metadata": {},
     "output_type": "execute_result"
    }
   ],
   "source": [
    "current_portfolio = pd.DataFrame(current_weights, index=portfolio, columns=['Current weights'])\n",
    "target_portfolio = pd.DataFrame(target_weights, index=portfolio, columns=['Target weights'])\n",
    "\n",
    "portfolios = pd.concat([current_portfolio, target_portfolio], axis=1)\n",
    "\n",
    "portfolios"
   ]
  },
  {
   "cell_type": "code",
   "execution_count": 53,
   "id": "96e962e1-ab10-481e-813a-698f246e0d01",
   "metadata": {},
   "outputs": [
    {
     "data": {
      "image/png": "[encoded data removed]",
      "text/plain": [
       "<Figure size 1200x600 with 2 Axes>"
      ]
     },
     "metadata": {},
     "output_type": "display_data"
    }
   ],
   "source": [
    "ax1 = plt.subplot(1,2,1)\n",
    "sns.barplot(x=portfolios.index, y=portfolios['Current weights'])\n",
    "plt.ylabel(\"Weights\");\n",
    "plt.xlabel(f\"Current weights\\nExpected return: {round(current_return*100,2)}%\\nVolatility (Std. Deviation): {round(current_volatility*100,2)}%\");\n",
    "ax1.set_xticklabels(ax1.get_xticklabels(), rotation=90)\n",
    "plt.tight_layout()\n",
    "\n",
    "ax2 = plt.subplot(1,2,2)\n",
    "sns.barplot(x=portfolios.index, y=portfolios['Target weights'])\n",
    "plt.ylabel(\"\");\n",
    "plt.xlabel(f\"Target weights\\nExpected return: {round(target_return*100,2)}%\\nVolatility (Std. Deviation): {round(target_volatility*100,2)}%\");\n",
    "ax2.set_xticklabels(ax2.get_xticklabels(), rotation=90)\n",
    "plt.tight_layout()\n",
    "\n",
    "plt.show()"
   ]
  },
  {
   "cell_type": "markdown",
   "id": "db603e4f-b0c1-491d-8205-c07a74fc6713",
   "metadata": {},
   "source": [
    "As the results show, using optimization methods we can achieve the target return our portfolio but with slightly increase volatility."
   ]
  },
  {
   "cell_type": "code",
   "execution_count": null,
   "id": "b8a2ce38-7526-48e5-92b6-1bb6f741e51b",
   "metadata": {},
   "outputs": [],
   "source": []
  }
 ],
 "metadata": {
  "kernelspec": {
   "display_name": "Python 3 (ipykernel)",
   "language": "python",
   "name": "python3"
  },
  "language_info": {
   "codemirror_mode": {
    "name": "ipython",
    "version": 3
   },
   "file_extension": ".py",
   "mimetype": "text/x-python",
   "name": "python",
   "nbconvert_exporter": "python",
   "pygments_lexer": "ipython3",
   "version": "3.11.7"
  }
 },
 "nbformat": 4,
 "nbformat_minor": 5
}
