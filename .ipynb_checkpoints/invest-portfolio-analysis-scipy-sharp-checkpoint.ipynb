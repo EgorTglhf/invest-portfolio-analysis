{
 "cells": [
  {
   "cell_type": "markdown",
   "id": "77b60867-96f0-401c-bcfa-30b1ed9bcc6c",
   "metadata": {},
   "source": [
    "## In this project we will use SciPy library to improve our portfolio by maximizing Sharpe Ratio. We will calculate the performance of the current portfolio. Also we will use minimize function from the library to find the portfolio which has maximal Sharpe Ratio.\n",
    "___"
   ]
  },
  {
   "cell_type": "markdown",
   "id": "192d735b-34df-436f-bc10-39c0e320a510",
   "metadata": {},
   "source": [
    "# Preparations"
   ]
  },
  {
   "cell_type": "markdown",
   "id": "dd2910f7-dd36-46ea-a70c-28fb109f7fd0",
   "metadata": {},
   "source": [
    "### Import libraries"
   ]
  },
  {
   "cell_type": "markdown",
   "id": "bf11b259-ca1f-494c-a0af-429132d1ac3e",
   "metadata": {},
   "source": [
    "Import standard libraries we need for interaction with data - Numpy and Pandas, for visualization - Matplotlib and Seaborn, for getting financial data - yfinance and pandas_datareader."
   ]
  },
  {
   "cell_type": "code",
   "execution_count": 4,
   "id": "0aa08b27-2ebc-4263-8b30-b9266123cf57",
   "metadata": {},
   "outputs": [],
   "source": [
    "import numpy as np\n",
    "import pandas as pd\n",
    "import matplotlib.pyplot as plt\n",
    "import seaborn as sns\n",
    "\n",
    "plt.rcParams['figure.figsize'] = [12, 6]\n",
    "%matplotlib inline\n",
    "\n",
    "import warnings\n",
    "warnings.filterwarnings('ignore')\n",
    "\n",
    "from scipy.optimize import minimize\n",
    "\n",
    "import datetime\n",
    "import yfinance as yf\n",
    "import pandas_datareader.data as web"
   ]
  },
  {
   "cell_type": "markdown",
   "id": "e6053546-4a97-4afb-8b4b-2d2d0adc6276",
   "metadata": {},
   "source": [
    "### Create time boundaries"
   ]
  },
  {
   "cell_type": "markdown",
   "id": "6e28c696-79d6-403a-8079-c176100bf0b3",
   "metadata": {},
   "source": [
    "Creating variables with time boundaries using the datetime library."
   ]
  },
  {
   "cell_type": "code",
   "execution_count": 7,
   "id": "7ce2ea5b-871f-4f56-8ed7-1b47e8d88926",
   "metadata": {},
   "outputs": [],
   "source": [
    "end_date = datetime.datetime.now()\n",
    "start_date = datetime.datetime.now() - datetime.timedelta(days=5*365)"
   ]
  },
  {
   "cell_type": "markdown",
   "id": "6c834c40-1943-4ee3-87aa-fda83a3e56b9",
   "metadata": {},
   "source": [
    "### Init portfolio data"
   ]
  },
  {
   "cell_type": "markdown",
   "id": "d66c9ed3-1d23-4959-8c60-0505b512418f",
   "metadata": {},
   "source": [
    "We have the customer portfolio consisting of 13 different stocks with actual weights in it."
   ]
  },
  {
   "cell_type": "code",
   "execution_count": 10,
   "id": "18c6bccf-10a8-41c7-bdc8-8bd4891b5756",
   "metadata": {},
   "outputs": [],
   "source": [
    "portfolio = ['AAPL', 'ABBV', 'BAC', 'BTI', 'C', 'CMCSA', 'FDX',  'GPS', 'HPQ', 'INTC', 'PFE', 'T', 'V']\n",
    "current_weights = [0.1269, 0.1082, 0.0473, 0.0762, 0.0441, 0.0627, 0.1069, 0.1006, 0.0716, 0.0401, 0.0588, 0.0689, 0.0876]\n",
    "portfolio_len = len(portfolio)"
   ]
  },
  {
   "cell_type": "markdown",
   "id": "5ba26568-2c25-47a8-b99d-1ea02cb706c9",
   "metadata": {},
   "source": [
    "# Calculate"
   ]
  },
  {
   "cell_type": "markdown",
   "id": "b2bcc839-749c-49d4-bf66-47637959dec6",
   "metadata": {},
   "source": [
    "### Load the stock data"
   ]
  },
  {
   "cell_type": "markdown",
   "id": "ccf7158d-e13a-418e-8e19-97da8da0fb0e",
   "metadata": {},
   "source": [
    "Load the daily stock data within the 5-year time period by using yfinance."
   ]
  },
  {
   "cell_type": "code",
   "execution_count": 14,
   "id": "70c2d1bc-9535-4e24-a3cc-f40b2d152594",
   "metadata": {},
   "outputs": [
    {
     "name": "stderr",
     "output_type": "stream",
     "text": [
      "[*********************100%***********************]  13 of 13 completed\n"
     ]
    }
   ],
   "source": [
    "stock_data = yf.download(portfolio, start_date, end_date, interval='1d')\n",
    "stock_data = stock_data['Close']\n",
    "stock_data = stock_data.reset_index()"
   ]
  },
  {
   "cell_type": "markdown",
   "id": "c4e2a0e9-3d99-47f0-9a09-fe92c99c973a",
   "metadata": {},
   "source": [
    "### Calculate metrics"
   ]
  },
  {
   "cell_type": "markdown",
   "id": "d86f5917-51a9-479f-8dda-6ad40d2912d5",
   "metadata": {},
   "source": [
    "Calculate the basic metrics - historical mean return and covariance matrix."
   ]
  },
  {
   "cell_type": "code",
   "execution_count": 17,
   "id": "26f6d4da-3e51-4412-89fe-0dbf9a87ab33",
   "metadata": {},
   "outputs": [],
   "source": [
    "# Find the quarterly return for each period\n",
    "selected = list(stock_data.columns[1:])\n",
    "returns = stock_data[selected].pct_change()\n",
    "# Find the expected returns \n",
    "expected_returns = returns.mean()\n",
    "# Find the covariance \n",
    "cov = returns.cov()"
   ]
  },
  {
   "cell_type": "markdown",
   "id": "a4a28f9f-cf88-454a-ba99-494e003b985e",
   "metadata": {},
   "source": [
    "### Calculate target portfolio"
   ]
  },
  {
   "cell_type": "markdown",
   "id": "f5654c45-e7b1-4f96-9cc0-14363b5dd843",
   "metadata": {},
   "source": [
    "Take the rate of U.S. 10 Year Treasury as the risk free rate."
   ]
  },
  {
   "cell_type": "code",
   "execution_count": 20,
   "id": "9b0ebd37-d196-46a7-a278-9a8fd03eb90d",
   "metadata": {},
   "outputs": [],
   "source": [
    "gs10 = web.DataReader('GS10', 'fred', start_date, end_date)\n",
    "riskfreerate = gs10.iloc[-1]['GS10']/100"
   ]
  },
  {
   "cell_type": "markdown",
   "id": "20160ebb-a981-43e0-9120-bf159800c850",
   "metadata": {},
   "source": [
    "Define a function which calculates the negative Sharpe Ratio. We use the negative Sharpe Ratio because the following optimization method has only minimize function, so the minimum of the negative Sharpe Ratio is the maximum of Sharpe Ratio we seek for different signs."
   ]
  },
  {
   "cell_type": "code",
   "execution_count": 22,
   "id": "4875bb0a-c289-4988-99f5-e6fad0f7ab09",
   "metadata": {},
   "outputs": [],
   "source": [
    "def getNegativeSharpeRatio(weight, returns, cov, riskfreerate = 0):\n",
    "    portfolioReturn = np.dot(weight , returns)*252\n",
    "    portfolioStd = np.sqrt(np.dot(weight , np.dot(cov , weight.T)))*np.sqrt(252)\n",
    "    return -(portfolioReturn - riskfreerate)/portfolioStd"
   ]
  },
  {
   "cell_type": "markdown",
   "id": "203488db-0357-4600-bdcf-84fae22f575a",
   "metadata": {},
   "source": [
    "We aim to achieve a highly diversified portfolio by setting both minimum and maximum percentage limits, ensuring that each stock's allocation falls within this range in the final portfolio."
   ]
  },
  {
   "cell_type": "code",
   "execution_count": 24,
   "id": "682fcf70-bdc6-41b8-9ee2-8468d3f0f4bc",
   "metadata": {},
   "outputs": [],
   "source": [
    "min_stock_fraction = 1/(portfolio_len*2)\n",
    "max_stock_fraction = 2/portfolio_len\n",
    "\n",
    "bounds = tuple((min_stock_fraction, max_stock_fraction) for i in range(portfolio_len))"
   ]
  },
  {
   "cell_type": "markdown",
   "id": "819cef2f-4b94-4577-9c38-8e43d6c1c6ad",
   "metadata": {},
   "source": [
    "We have the obvious condition that sum of weights has to be 1"
   ]
  },
  {
   "cell_type": "code",
   "execution_count": 26,
   "id": "7303280a-5e0d-4624-9676-1c4dbce35b7f",
   "metadata": {},
   "outputs": [],
   "source": [
    "cons = (\n",
    "    # Sum of weights must equate to 1\n",
    "    {'type' : 'eq', 'fun' : lambda w : np.sum(w) - 1})"
   ]
  },
  {
   "cell_type": "markdown",
   "id": "f63cf333-b2c0-43e5-a11e-12aadefab8ae",
   "metadata": {},
   "source": [
    "Define a wrapper function to maximize the Sharpe Ratio."
   ]
  },
  {
   "cell_type": "code",
   "execution_count": 28,
   "id": "feb9774d-f8f5-44ac-8690-16e310909013",
   "metadata": {},
   "outputs": [],
   "source": [
    "def maxSR(returns, cov, bounds, cons, riskfreerate = 0):\n",
    "    args = (returns, cov, riskfreerate)\n",
    "    result = minimize(fun=getNegativeSharpeRatio,\n",
    "                      x0=current_weights,\n",
    "                      args=args,\n",
    "                      bounds=bounds, \n",
    "                      constraints=cons)\n",
    "    return result"
   ]
  },
  {
   "cell_type": "markdown",
   "id": "ecf48e79-6f95-4cf3-b141-08c55cdc9437",
   "metadata": {},
   "source": [
    "Now we ready to call our implemention."
   ]
  },
  {
   "cell_type": "code",
   "execution_count": 30,
   "id": "a144c48b-f0cb-4c5c-8abc-05ea09256b82",
   "metadata": {},
   "outputs": [
    {
     "name": "stdout",
     "output_type": "stream",
     "text": [
      " message: Optimization terminated successfully\n",
      " success: True\n",
      "  status: 0\n",
      "     fun: -0.6052157009491571\n",
      "       x: [ 1.538e-01  1.538e-01 ...  3.846e-02  5.864e-02]\n",
      "     nit: 4\n",
      "     jac: [-8.011e-01 -6.110e-01 ...  4.542e-01 -1.836e-02]\n",
      "    nfev: 56\n",
      "    njev: 4\n"
     ]
    }
   ],
   "source": [
    "result = maxSR(expected_returns, cov, bounds, cons, riskfreerate=riskfreerate)\n",
    "print(result)"
   ]
  },
  {
   "cell_type": "markdown",
   "id": "5a90aaae-b1cb-41d9-a89f-d182b9bfaacb",
   "metadata": {},
   "source": [
    "# Results"
   ]
  },
  {
   "cell_type": "markdown",
   "id": "850c90fb-88ce-47be-9b6b-8cbea32e1602",
   "metadata": {},
   "source": [
    "Calculate the performance of the current portfolio."
   ]
  },
  {
   "cell_type": "code",
   "execution_count": 33,
   "id": "aada19fb-8e1e-4970-96a9-67c5b692e951",
   "metadata": {},
   "outputs": [],
   "source": [
    "current_return = np.dot(current_weights , expected_returns)*252\n",
    "current_volatility = np.sqrt(np.dot(np.transpose(current_weights), np.dot(cov, current_weights)))*np.sqrt(252)\n",
    "current_sharp_ratio = (current_return - riskfreerate)/current_volatility"
   ]
  },
  {
   "cell_type": "markdown",
   "id": "4f6b0f4d-805a-47f9-8c42-5da351cd71cb",
   "metadata": {},
   "source": [
    "Calculate the performance of the optimized portfolio."
   ]
  },
  {
   "cell_type": "code",
   "execution_count": 35,
   "id": "7cf8c633-fcd7-4947-bfd4-9ffd46e55585",
   "metadata": {},
   "outputs": [],
   "source": [
    "optimized_weights = [float(round(x, 4)) for x in result['x']]"
   ]
  },
  {
   "cell_type": "code",
   "execution_count": 36,
   "id": "677d6640-4000-456c-87d9-cf3ad204d0a2",
   "metadata": {},
   "outputs": [],
   "source": [
    "optimized_return = np.dot(optimized_weights , expected_returns)*252\n",
    "optimized_volatility = np.sqrt(np.dot(np.transpose(optimized_weights), np.dot(cov, optimized_weights)))*np.sqrt(252)\n",
    "optimized_sharp_ratio = (optimized_return - riskfreerate)/optimized_volatility"
   ]
  },
  {
   "cell_type": "markdown",
   "id": "9b62e304-3133-4f65-92b4-6726fe442a88",
   "metadata": {},
   "source": [
    "Collect portfolios to one DataFrame."
   ]
  },
  {
   "cell_type": "code",
   "execution_count": 38,
   "id": "9a38e5de-d3be-4ff5-8531-f66012a8a7ce",
   "metadata": {},
   "outputs": [
    {
     "data": {
      "text/html": [
       "<div>\n",
       "<style scoped>\n",
       "    .dataframe tbody tr th:only-of-type {\n",
       "        vertical-align: middle;\n",
       "    }\n",
       "\n",
       "    .dataframe tbody tr th {\n",
       "        vertical-align: top;\n",
       "    }\n",
       "\n",
       "    .dataframe thead th {\n",
       "        text-align: right;\n",
       "    }\n",
       "</style>\n",
       "<table border=\"1\" class=\"dataframe\">\n",
       "  <thead>\n",
       "    <tr style=\"text-align: right;\">\n",
       "      <th></th>\n",
       "      <th>Current weights</th>\n",
       "      <th>Optimized weights</th>\n",
       "    </tr>\n",
       "  </thead>\n",
       "  <tbody>\n",
       "    <tr>\n",
       "      <th>AAPL</th>\n",
       "      <td>0.1269</td>\n",
       "      <td>0.1538</td>\n",
       "    </tr>\n",
       "    <tr>\n",
       "      <th>ABBV</th>\n",
       "      <td>0.1082</td>\n",
       "      <td>0.1538</td>\n",
       "    </tr>\n",
       "    <tr>\n",
       "      <th>BAC</th>\n",
       "      <td>0.0473</td>\n",
       "      <td>0.0385</td>\n",
       "    </tr>\n",
       "    <tr>\n",
       "      <th>BTI</th>\n",
       "      <td>0.0762</td>\n",
       "      <td>0.0385</td>\n",
       "    </tr>\n",
       "    <tr>\n",
       "      <th>C</th>\n",
       "      <td>0.0441</td>\n",
       "      <td>0.0385</td>\n",
       "    </tr>\n",
       "    <tr>\n",
       "      <th>CMCSA</th>\n",
       "      <td>0.0627</td>\n",
       "      <td>0.0385</td>\n",
       "    </tr>\n",
       "    <tr>\n",
       "      <th>FDX</th>\n",
       "      <td>0.1069</td>\n",
       "      <td>0.1538</td>\n",
       "    </tr>\n",
       "    <tr>\n",
       "      <th>GPS</th>\n",
       "      <td>0.1006</td>\n",
       "      <td>0.0567</td>\n",
       "    </tr>\n",
       "    <tr>\n",
       "      <th>HPQ</th>\n",
       "      <td>0.0716</td>\n",
       "      <td>0.1538</td>\n",
       "    </tr>\n",
       "    <tr>\n",
       "      <th>INTC</th>\n",
       "      <td>0.0401</td>\n",
       "      <td>0.0385</td>\n",
       "    </tr>\n",
       "    <tr>\n",
       "      <th>PFE</th>\n",
       "      <td>0.0588</td>\n",
       "      <td>0.0385</td>\n",
       "    </tr>\n",
       "    <tr>\n",
       "      <th>T</th>\n",
       "      <td>0.0689</td>\n",
       "      <td>0.0385</td>\n",
       "    </tr>\n",
       "    <tr>\n",
       "      <th>V</th>\n",
       "      <td>0.0876</td>\n",
       "      <td>0.0586</td>\n",
       "    </tr>\n",
       "  </tbody>\n",
       "</table>\n",
       "</div>"
      ],
      "text/plain": [
       "       Current weights  Optimized weights\n",
       "AAPL            0.1269             0.1538\n",
       "ABBV            0.1082             0.1538\n",
       "BAC             0.0473             0.0385\n",
       "BTI             0.0762             0.0385\n",
       "C               0.0441             0.0385\n",
       "CMCSA           0.0627             0.0385\n",
       "FDX             0.1069             0.1538\n",
       "GPS             0.1006             0.0567\n",
       "HPQ             0.0716             0.1538\n",
       "INTC            0.0401             0.0385\n",
       "PFE             0.0588             0.0385\n",
       "T               0.0689             0.0385\n",
       "V               0.0876             0.0586"
      ]
     },
     "execution_count": 38,
     "metadata": {},
     "output_type": "execute_result"
    }
   ],
   "source": [
    "current_portfolio = pd.DataFrame(current_weights, index=portfolio, columns=['Current weights'])\n",
    "optimized_portfolio = pd.DataFrame(optimized_weights, index=portfolio, columns=['Optimized weights'])\n",
    "\n",
    "portfolios = pd.concat([current_portfolio, optimized_portfolio], axis=1)\n",
    "\n",
    "portfolios"
   ]
  },
  {
   "cell_type": "code",
   "execution_count": 39,
   "id": "511d911d-4b0c-4fcc-89cf-9bcbeac36dcc",
   "metadata": {},
   "outputs": [
    {
     "data": {
      "image/png": "[encoded data removed]",
      "text/plain": [
       "<Figure size 1200x600 with 2 Axes>"
      ]
     },
     "metadata": {},
     "output_type": "display_data"
    }
   ],
   "source": [
    "ax1 = plt.subplot(1,2,1)\n",
    "sns.barplot(x=portfolios.index, y=portfolios['Current weights'])\n",
    "plt.ylabel(\"Weights\");\n",
    "plt.xlabel(f\"\"\"Current weights\n",
    "Expected return: {round(current_return*100,2)}%\n",
    "Volatility (Std. Deviation): {round(current_volatility*100,2)}%\n",
    "Sharp ratio: {round(current_sharp_ratio,2)}\"\"\");\n",
    "ax1.set_xticklabels(ax1.get_xticklabels(), rotation=90)\n",
    "plt.tight_layout()\n",
    "\n",
    "ax2 = plt.subplot(1,2,2)\n",
    "sns.barplot(x=portfolios.index, y=portfolios['Optimized weights'])\n",
    "plt.ylabel(\"\");\n",
    "plt.xlabel(f\"\"\"Optimized weights\n",
    "Expected return: {round(optimized_return*100,2)}%\n",
    "Volatility (Std. Deviation): {round(optimized_volatility*100,2)}%\n",
    "Sharp ratio: {round(optimized_sharp_ratio,2)}\"\"\");\n",
    "ax2.set_xticklabels(ax2.get_xticklabels(), rotation=90)\n",
    "plt.tight_layout()\n",
    "\n",
    "plt.show()"
   ]
  },
  {
   "cell_type": "markdown",
   "id": "f8c30640-9adb-41f0-a86f-6f928ac63bf3",
   "metadata": {},
   "source": [
    "As the results show, using portfolio optimization we can significantly improve the return and Sharpe Ratio with only minor increase volatility."
   ]
  }
 ],
 "metadata": {
  "kernelspec": {
   "display_name": "Python 3 (ipykernel)",
   "language": "python",
   "name": "python3"
  },
  "language_info": {
   "codemirror_mode": {
    "name": "ipython",
    "version": 3
   },
   "file_extension": ".py",
   "mimetype": "text/x-python",
   "name": "python",
   "nbconvert_exporter": "python",
   "pygments_lexer": "ipython3",
   "version": "3.11.7"
  }
 },
 "nbformat": 4,
 "nbformat_minor": 5
}
