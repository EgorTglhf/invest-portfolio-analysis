{
 "cells": [
  {
   "cell_type": "markdown",
   "id": "192d735b-34df-436f-bc10-39c0e320a510",
   "metadata": {},
   "source": [
    "# Preparations"
   ]
  },
  {
   "cell_type": "markdown",
   "id": "dd2910f7-dd36-46ea-a70c-28fb109f7fd0",
   "metadata": {},
   "source": [
    "### Import libraries"
   ]
  },
  {
   "cell_type": "code",
   "execution_count": 3,
   "id": "0aa08b27-2ebc-4263-8b30-b9266123cf57",
   "metadata": {},
   "outputs": [],
   "source": [
    "import numpy as np\n",
    "import pandas as pd\n",
    "import matplotlib.pyplot as plt\n",
    "import seaborn as sns\n",
    "\n",
    "plt.rcParams['figure.figsize'] = [12, 6]\n",
    "%matplotlib inline\n",
    "\n",
    "import warnings\n",
    "warnings.filterwarnings('ignore')\n",
    "\n",
    "from scipy.optimize import minimize\n",
    "\n",
    "import datetime\n",
    "import yfinance as yf\n",
    "import pandas_datareader.data as web"
   ]
  },
  {
   "cell_type": "markdown",
   "id": "e6053546-4a97-4afb-8b4b-2d2d0adc6276",
   "metadata": {},
   "source": [
    "### Create time boundaries"
   ]
  },
  {
   "cell_type": "code",
   "execution_count": 5,
   "id": "7ce2ea5b-871f-4f56-8ed7-1b47e8d88926",
   "metadata": {},
   "outputs": [],
   "source": [
    "end_date = datetime.datetime.now()\n",
    "start_date = datetime.datetime.now() - datetime.timedelta(days=5*365)"
   ]
  },
  {
   "cell_type": "markdown",
   "id": "6c834c40-1943-4ee3-87aa-fda83a3e56b9",
   "metadata": {},
   "source": [
    "### Init portfolio data"
   ]
  },
  {
   "cell_type": "code",
   "execution_count": 7,
   "id": "18c6bccf-10a8-41c7-bdc8-8bd4891b5756",
   "metadata": {},
   "outputs": [],
   "source": [
    "portfolio = ['AAPL', 'ABBV', 'BAC', 'BTI', 'C', 'CMCSA', 'FDX',  'GPS', 'HPQ', 'INTC', 'PFE', 'T', 'V']\n",
    "current_weights = [0.1269, 0.1082, 0.0473, 0.0762, 0.0441, 0.0627, 0.1069, 0.1006, 0.0716, 0.0401, 0.0588, 0.0689, 0.0876]\n",
    "portfolio_len = len(portfolio)"
   ]
  },
  {
   "cell_type": "markdown",
   "id": "5ba26568-2c25-47a8-b99d-1ea02cb706c9",
   "metadata": {},
   "source": [
    "# Calculate"
   ]
  },
  {
   "cell_type": "markdown",
   "id": "b2bcc839-749c-49d4-bf66-47637959dec6",
   "metadata": {},
   "source": [
    "### Load the stock data"
   ]
  },
  {
   "cell_type": "code",
   "execution_count": 10,
   "id": "70c2d1bc-9535-4e24-a3cc-f40b2d152594",
   "metadata": {},
   "outputs": [
    {
     "name": "stderr",
     "output_type": "stream",
     "text": [
      "[*********************100%***********************]  13 of 13 completed\n"
     ]
    }
   ],
   "source": [
    "stock_data = yf.download(portfolio, start_date, end_date, interval='1d')\n",
    "stock_data = stock_data['Close']\n",
    "stock_data = stock_data.reset_index()"
   ]
  },
  {
   "cell_type": "markdown",
   "id": "c4e2a0e9-3d99-47f0-9a09-fe92c99c973a",
   "metadata": {},
   "source": [
    "### Calculate metrics"
   ]
  },
  {
   "cell_type": "code",
   "execution_count": 12,
   "id": "26f6d4da-3e51-4412-89fe-0dbf9a87ab33",
   "metadata": {},
   "outputs": [],
   "source": [
    "# Find the quarterly return for each period\n",
    "selected = list(stock_data.columns[1:])\n",
    "returns = stock_data[selected].pct_change()\n",
    "# Find the expected returns \n",
    "expected_returns = returns.mean()\n",
    "# Find the covariance \n",
    "cov = returns.cov()"
   ]
  },
  {
   "cell_type": "markdown",
   "id": "a4a28f9f-cf88-454a-ba99-494e003b985e",
   "metadata": {},
   "source": [
    "### Calculate target portfolio"
   ]
  },
  {
   "cell_type": "code",
   "execution_count": 14,
   "id": "9b0ebd37-d196-46a7-a278-9a8fd03eb90d",
   "metadata": {},
   "outputs": [],
   "source": [
    "gs10 = web.DataReader('GS10', 'fred', start_date, end_date)\n",
    "riskfreerate = gs10.iloc[-1]['GS10']/100"
   ]
  },
  {
   "cell_type": "code",
   "execution_count": 15,
   "id": "4875bb0a-c289-4988-99f5-e6fad0f7ab09",
   "metadata": {},
   "outputs": [],
   "source": [
    "def getNegativeSharpeRatio(weight, returns, cov, riskfreerate = 0):\n",
    "    portfolioReturn = np.dot(weight , returns)*252\n",
    "    portfolioStd = np.sqrt(np.dot(weight , np.dot(cov , weight.T)))*np.sqrt(252)\n",
    "    return -(portfolioReturn - riskfreerate)/portfolioStd"
   ]
  },
  {
   "cell_type": "code",
   "execution_count": 16,
   "id": "682fcf70-bdc6-41b8-9ee2-8468d3f0f4bc",
   "metadata": {},
   "outputs": [],
   "source": [
    "min_stock_fraction = 1/(portfolio_len*2)\n",
    "max_stock_fraction = 2/portfolio_len\n",
    "\n",
    "bounds = tuple((min_stock_fraction, max_stock_fraction) for i in range(portfolio_len))"
   ]
  },
  {
   "cell_type": "code",
   "execution_count": 17,
   "id": "7303280a-5e0d-4624-9676-1c4dbce35b7f",
   "metadata": {},
   "outputs": [],
   "source": [
    "cons = (\n",
    "    # Sum of weights must equate to 1\n",
    "    {'type' : 'eq', 'fun' : lambda w : np.sum(w) - 1})"
   ]
  },
  {
   "cell_type": "code",
   "execution_count": 18,
   "id": "feb9774d-f8f5-44ac-8690-16e310909013",
   "metadata": {},
   "outputs": [],
   "source": [
    "def maxSR(returns, cov, bounds, cons, riskfreerate = 0):\n",
    "    args = (returns, cov, riskfreerate)\n",
    "    result = minimize(fun=getNegativeSharpeRatio,\n",
    "                      x0=current_weights,\n",
    "                      args=args,\n",
    "                      bounds=bounds, \n",
    "                      constraints=cons)\n",
    "    return result"
   ]
  },
  {
   "cell_type": "code",
   "execution_count": 19,
   "id": "a144c48b-f0cb-4c5c-8abc-05ea09256b82",
   "metadata": {},
   "outputs": [
    {
     "name": "stdout",
     "output_type": "stream",
     "text": [
      " message: Optimization terminated successfully\n",
      " success: True\n",
      "  status: 0\n",
      "     fun: -0.5944821613464781\n",
      "       x: [ 1.538e-01  1.538e-01 ...  3.846e-02  5.007e-02]\n",
      "     nit: 4\n",
      "     jac: [-8.444e-01 -6.210e-01 ...  4.435e-01 -3.963e-02]\n",
      "    nfev: 56\n",
      "    njev: 4\n"
     ]
    }
   ],
   "source": [
    "result = maxSR(expected_returns, cov, bounds, cons, riskfreerate=riskfreerate)\n",
    "print(result)"
   ]
  },
  {
   "cell_type": "markdown",
   "id": "5a90aaae-b1cb-41d9-a89f-d182b9bfaacb",
   "metadata": {},
   "source": [
    "# Results"
   ]
  },
  {
   "cell_type": "code",
   "execution_count": 21,
   "id": "aada19fb-8e1e-4970-96a9-67c5b692e951",
   "metadata": {},
   "outputs": [],
   "source": [
    "current_return = np.dot(current_weights , expected_returns)*252\n",
    "current_volatility = np.sqrt(np.dot(np.transpose(current_weights), np.dot(cov, current_weights)))\n",
    "current_sharp_ratio = (current_return - riskfreerate)/current_volatility"
   ]
  },
  {
   "cell_type": "code",
   "execution_count": 22,
   "id": "7cf8c633-fcd7-4947-bfd4-9ffd46e55585",
   "metadata": {},
   "outputs": [],
   "source": [
    "optimized_weights = [float(round(x, 4)) for x in result['x']]"
   ]
  },
  {
   "cell_type": "code",
   "execution_count": 23,
   "id": "677d6640-4000-456c-87d9-cf3ad204d0a2",
   "metadata": {},
   "outputs": [],
   "source": [
    "optimized_return = np.dot(optimized_weights , expected_returns)*252\n",
    "optimized_volatility = np.sqrt(np.dot(np.transpose(optimized_weights), np.dot(cov, optimized_weights)))\n",
    "optimized_sharp_ratio = (optimized_return - riskfreerate)/optimized_volatility"
   ]
  },
  {
   "cell_type": "code",
   "execution_count": 24,
   "id": "9a38e5de-d3be-4ff5-8531-f66012a8a7ce",
   "metadata": {},
   "outputs": [
    {
     "data": {
      "text/html": [
       "<div>\n",
       "<style scoped>\n",
       "    .dataframe tbody tr th:only-of-type {\n",
       "        vertical-align: middle;\n",
       "    }\n",
       "\n",
       "    .dataframe tbody tr th {\n",
       "        vertical-align: top;\n",
       "    }\n",
       "\n",
       "    .dataframe thead th {\n",
       "        text-align: right;\n",
       "    }\n",
       "</style>\n",
       "<table border=\"1\" class=\"dataframe\">\n",
       "  <thead>\n",
       "    <tr style=\"text-align: right;\">\n",
       "      <th></th>\n",
       "      <th>Current weights</th>\n",
       "      <th>Optimized weights</th>\n",
       "    </tr>\n",
       "  </thead>\n",
       "  <tbody>\n",
       "    <tr>\n",
       "      <th>AAPL</th>\n",
       "      <td>0.1269</td>\n",
       "      <td>0.1538</td>\n",
       "    </tr>\n",
       "    <tr>\n",
       "      <th>ABBV</th>\n",
       "      <td>0.1082</td>\n",
       "      <td>0.1538</td>\n",
       "    </tr>\n",
       "    <tr>\n",
       "      <th>BAC</th>\n",
       "      <td>0.0473</td>\n",
       "      <td>0.0385</td>\n",
       "    </tr>\n",
       "    <tr>\n",
       "      <th>BTI</th>\n",
       "      <td>0.0762</td>\n",
       "      <td>0.0385</td>\n",
       "    </tr>\n",
       "    <tr>\n",
       "      <th>C</th>\n",
       "      <td>0.0441</td>\n",
       "      <td>0.0385</td>\n",
       "    </tr>\n",
       "    <tr>\n",
       "      <th>CMCSA</th>\n",
       "      <td>0.0627</td>\n",
       "      <td>0.0385</td>\n",
       "    </tr>\n",
       "    <tr>\n",
       "      <th>FDX</th>\n",
       "      <td>0.1069</td>\n",
       "      <td>0.1538</td>\n",
       "    </tr>\n",
       "    <tr>\n",
       "      <th>GPS</th>\n",
       "      <td>0.1006</td>\n",
       "      <td>0.0653</td>\n",
       "    </tr>\n",
       "    <tr>\n",
       "      <th>HPQ</th>\n",
       "      <td>0.0716</td>\n",
       "      <td>0.1538</td>\n",
       "    </tr>\n",
       "    <tr>\n",
       "      <th>INTC</th>\n",
       "      <td>0.0401</td>\n",
       "      <td>0.0385</td>\n",
       "    </tr>\n",
       "    <tr>\n",
       "      <th>PFE</th>\n",
       "      <td>0.0588</td>\n",
       "      <td>0.0385</td>\n",
       "    </tr>\n",
       "    <tr>\n",
       "      <th>T</th>\n",
       "      <td>0.0689</td>\n",
       "      <td>0.0385</td>\n",
       "    </tr>\n",
       "    <tr>\n",
       "      <th>V</th>\n",
       "      <td>0.0876</td>\n",
       "      <td>0.0501</td>\n",
       "    </tr>\n",
       "  </tbody>\n",
       "</table>\n",
       "</div>"
      ],
      "text/plain": [
       "       Current weights  Optimized weights\n",
       "AAPL            0.1269             0.1538\n",
       "ABBV            0.1082             0.1538\n",
       "BAC             0.0473             0.0385\n",
       "BTI             0.0762             0.0385\n",
       "C               0.0441             0.0385\n",
       "CMCSA           0.0627             0.0385\n",
       "FDX             0.1069             0.1538\n",
       "GPS             0.1006             0.0653\n",
       "HPQ             0.0716             0.1538\n",
       "INTC            0.0401             0.0385\n",
       "PFE             0.0588             0.0385\n",
       "T               0.0689             0.0385\n",
       "V               0.0876             0.0501"
      ]
     },
     "execution_count": 24,
     "metadata": {},
     "output_type": "execute_result"
    }
   ],
   "source": [
    "current_portfolio = pd.DataFrame(current_weights, index=portfolio, columns=['Current weights'])\n",
    "optimized_portfolio = pd.DataFrame(optimized_weights, index=portfolio, columns=['Optimized weights'])\n",
    "\n",
    "portfolios = pd.concat([current_portfolio, optimized_portfolio], axis=1)\n",
    "\n",
    "portfolios"
   ]
  },
  {
   "cell_type": "code",
   "execution_count": 25,
   "id": "511d911d-4b0c-4fcc-89cf-9bcbeac36dcc",
   "metadata": {},
   "outputs": [
    {
     "data": {
      "image/png": "[encoded data removed]",
      "text/plain": [
       "<Figure size 1200x600 with 2 Axes>"
      ]
     },
     "metadata": {},
     "output_type": "display_data"
    }
   ],
   "source": [
    "ax1 = plt.subplot(1,2,1)\n",
    "sns.barplot(x=portfolios.index, y=portfolios['Current weights'])\n",
    "plt.ylabel(\"Weights\");\n",
    "plt.xlabel(f\"\"\"Current weights\n",
    "Expected return: {round(current_return*100,2)}%\n",
    "Volatility (Std. Deviation): {round(current_volatility*100,2)}%\n",
    "Sharp ratio: {round(current_sharp_ratio,2)}\"\"\");\n",
    "ax1.set_xticklabels(ax1.get_xticklabels(), rotation=90)\n",
    "plt.tight_layout()\n",
    "\n",
    "ax2 = plt.subplot(1,2,2)\n",
    "sns.barplot(x=portfolios.index, y=portfolios['Optimized weights'])\n",
    "plt.ylabel(\"\");\n",
    "plt.xlabel(f\"\"\"Optimized weights\n",
    "Expected return: {round(optimized_return*100,2)}%\n",
    "Volatility (Std. Deviation): {round(optimized_volatility*100,2)}%\n",
    "Sharp ratio: {round(optimized_sharp_ratio,2)}\"\"\");\n",
    "ax2.set_xticklabels(ax2.get_xticklabels(), rotation=90)\n",
    "plt.tight_layout()\n",
    "\n",
    "plt.show()"
   ]
  },
  {
   "cell_type": "code",
   "execution_count": null,
   "id": "10feae20-3d62-41a4-89e6-91a898641c86",
   "metadata": {},
   "outputs": [],
   "source": []
  }
 ],
 "metadata": {
  "kernelspec": {
   "display_name": "Python 3 (ipykernel)",
   "language": "python",
   "name": "python3"
  },
  "language_info": {
   "codemirror_mode": {
    "name": "ipython",
    "version": 3
   },
   "file_extension": ".py",
   "mimetype": "text/x-python",
   "name": "python",
   "nbconvert_exporter": "python",
   "pygments_lexer": "ipython3",
   "version": "3.11.7"
  }
 },
 "nbformat": 4,
 "nbformat_minor": 5
}
